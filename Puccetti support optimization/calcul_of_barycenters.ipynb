{
 "cells": [
  {
   "cell_type": "markdown",
   "id": "e7256490",
   "metadata": {},
   "source": [
    "# Dans ce notebook le calcul des barycentre est réalisé au moyen de la méthode proposée par Puccetti dans sont article \"On the computation of Wasserstein barycenters\"."
   ]
  },
  {
   "cell_type": "markdown",
   "id": "a2dd4c74",
   "metadata": {},
   "source": [
    "## Le dataset utilisé est une banque d'image inspiré du MNIST"
   ]
  },
  {
   "cell_type": "markdown",
   "id": "61f5467c",
   "metadata": {},
   "source": [
    "dataset taken from transformed MNIST the  https://www.cs.toronto.edu/~tijmen/affNIST/"
   ]
  },
  {
   "cell_type": "code",
   "execution_count": 1,
   "id": "4199b05d",
   "metadata": {},
   "outputs": [],
   "source": [
    "#bibliothèques\n",
    "import numpy as np \n",
    "import pandas as pd\n",
    "import scipy.io\n",
    "import time\n",
    "from PIL import Image"
   ]
  },
  {
   "cell_type": "markdown",
   "id": "1947669d",
   "metadata": {},
   "source": [
    "Importation des bibliothèques:"
   ]
  },
  {
   "cell_type": "code",
   "execution_count": 2,
   "id": "6fbf5529",
   "metadata": {},
   "outputs": [],
   "source": [
    "#importation\n",
    "mat = scipy.io.loadmat('1.mat')\n",
    "tableau = mat['affNISTdata'][0][0]\n",
    "#paramêtres de l'image\n",
    "nb_pixel_side = 40  #resolution = 40*40"
   ]
  },
  {
   "cell_type": "markdown",
   "id": "d7cce4e0",
   "metadata": {},
   "source": [
    "Visualisation des données:"
   ]
  },
  {
   "cell_type": "code",
   "execution_count": 3,
   "id": "b1118448",
   "metadata": {},
   "outputs": [],
   "source": [
    "N_samples = len(tableau[2][0])\n",
    "\n",
    "#valeurs normalisées pour obtenir une mesure de proba dans le cas général (avec nuances):\n",
    "pixels_nuance = [np.array([a[i] for a in tableau[2]]) for i in range(N_samples)]\n",
    "atoms_nuance = [p/sum(p) for p in pixels_nuance] # on ne va pas utiliser cette variabel, elle est uniquement informative\n",
    "\n",
    "#liste des int qui sont écrits sur l'image:\n",
    "entiers_0_9 = tableau[5][0]"
   ]
  },
  {
   "cell_type": "code",
   "execution_count": 4,
   "id": "89bae781",
   "metadata": {},
   "outputs": [
    {
     "data": {
      "text/html": [
       "<div>\n",
       "<style scoped>\n",
       "    .dataframe tbody tr th:only-of-type {\n",
       "        vertical-align: middle;\n",
       "    }\n",
       "\n",
       "    .dataframe tbody tr th {\n",
       "        vertical-align: top;\n",
       "    }\n",
       "\n",
       "    .dataframe thead th {\n",
       "        text-align: right;\n",
       "    }\n",
       "</style>\n",
       "<table border=\"1\" class=\"dataframe\">\n",
       "  <thead>\n",
       "    <tr style=\"text-align: right;\">\n",
       "      <th></th>\n",
       "      <th>pixels</th>\n",
       "      <th>entiers_0_9</th>\n",
       "      <th>atoms</th>\n",
       "    </tr>\n",
       "  </thead>\n",
       "  <tbody>\n",
       "    <tr>\n",
       "      <th>0</th>\n",
       "      <td>[0, 0, 0, 0, 0, 0, 0, 0, 0, 0, 0, 0, 0, 0, 0, ...</td>\n",
       "      <td>0</td>\n",
       "      <td>[0.0, 0.0, 0.0, 0.0, 0.0, 0.0, 0.0, 0.0, 0.0, ...</td>\n",
       "    </tr>\n",
       "    <tr>\n",
       "      <th>1</th>\n",
       "      <td>[0, 0, 0, 0, 0, 0, 0, 0, 0, 0, 0, 0, 0, 0, 0, ...</td>\n",
       "      <td>1</td>\n",
       "      <td>[0.0, 0.0, 0.0, 0.0, 0.0, 0.0, 0.0, 0.0, 0.0, ...</td>\n",
       "    </tr>\n",
       "    <tr>\n",
       "      <th>2</th>\n",
       "      <td>[0, 0, 0, 0, 0, 0, 0, 0, 0, 0, 0, 0, 0, 0, 0, ...</td>\n",
       "      <td>7</td>\n",
       "      <td>[0.0, 0.0, 0.0, 0.0, 0.0, 0.0, 0.0, 0.0, 0.0, ...</td>\n",
       "    </tr>\n",
       "  </tbody>\n",
       "</table>\n",
       "</div>"
      ],
      "text/plain": [
       "                                              pixels  entiers_0_9  \\\n",
       "0  [0, 0, 0, 0, 0, 0, 0, 0, 0, 0, 0, 0, 0, 0, 0, ...            0   \n",
       "1  [0, 0, 0, 0, 0, 0, 0, 0, 0, 0, 0, 0, 0, 0, 0, ...            1   \n",
       "2  [0, 0, 0, 0, 0, 0, 0, 0, 0, 0, 0, 0, 0, 0, 0, ...            7   \n",
       "\n",
       "                                               atoms  \n",
       "0  [0.0, 0.0, 0.0, 0.0, 0.0, 0.0, 0.0, 0.0, 0.0, ...  \n",
       "1  [0.0, 0.0, 0.0, 0.0, 0.0, 0.0, 0.0, 0.0, 0.0, ...  \n",
       "2  [0.0, 0.0, 0.0, 0.0, 0.0, 0.0, 0.0, 0.0, 0.0, ...  "
      ]
     },
     "execution_count": 4,
     "metadata": {},
     "output_type": "execute_result"
    }
   ],
   "source": [
    "df_im_nuance = pd.DataFrame({'pixels':pixels_nuance, 'entiers_0_9':entiers_0_9, 'atoms':atoms_nuance})\n",
    "df_im_nuance.head(3)"
   ]
  },
  {
   "cell_type": "code",
   "execution_count": 5,
   "id": "ef44ae2a",
   "metadata": {},
   "outputs": [
    {
     "data": {
      "image/png": "[encoded data removed]",
      "text/plain": [
       "<PIL.Image.Image image mode=L size=300x300>"
      ]
     },
     "execution_count": 5,
     "metadata": {},
     "output_type": "execute_result"
    }
   ],
   "source": [
    "#%% Exemple de visualisation d'une image :\n",
    "#pour l'image 40002\n",
    "int_im = df_im_nuance.iloc[40002].entiers_0_9\n",
    "l_pixels = df_im_nuance.iloc[40002].pixels\n",
    "\n",
    "#dimensions de l'image\n",
    "width = 40\n",
    "height = 40\n",
    "\n",
    "#display de l'image 40002\n",
    "img_nuance = Image.new('L', (width, height))\n",
    "img_nuance.putdata(l_pixels)\n",
    "#img_nuance.save(f'image_{int_im}.png')\n",
    "img_nuance.resize((300,300), resample=0)"
   ]
  },
  {
   "cell_type": "markdown",
   "id": "3421306f",
   "metadata": {},
   "source": [
    "Dans le cas de l'algo de Puccetti, les poids doivent être uniformements repartis, autrement dit il ne doit y avoir que des uns (ou des 255) et des zéros dans les matrices.\n",
    "Sinon il faudrait créer une listes beaucoup plus grande qui 255-uplerait les points pour pouvoir avoir des poids ponctuels mis à repetition sur le même poids (ou alors créer 255 autres \n",
    "mesures de proba pour chacune des mesures de proba qui sont déjà dans le modèle).\n",
    "Il faudra peut être étudier ce schéma, mais dans un premier temps je fais le choix de traiter un problème simplifié avec que du blanc (255) et du noir (0), que je trie grâce à un seuil"
   ]
  },
  {
   "cell_type": "code",
   "execution_count": 6,
   "id": "5b343b33",
   "metadata": {},
   "outputs": [],
   "source": [
    "#nouvelles listes avec que du blanc ou du noir :\n",
    "def noir_ou_blanc(nb, nb_to_compare):\n",
    "    if nb < nb_to_compare:\n",
    "        return(0)\n",
    "    return(255)"
   ]
  },
  {
   "cell_type": "code",
   "execution_count": 7,
   "id": "686ef494",
   "metadata": {},
   "outputs": [],
   "source": [
    "pixels_BW = [np.array([noir_ou_blanc(a[i], 128) for a in tableau[2]]) for i in range(N_samples)]\n",
    "atoms_BW = [p/sum(p) for p in pixels_BW] #valeurs normalisées pour obtenir une mesure de proba\n",
    "   "
   ]
  },
  {
   "cell_type": "code",
   "execution_count": 8,
   "id": "a57d506a",
   "metadata": {},
   "outputs": [],
   "source": [
    "df_im_BW = pd.DataFrame({'pixels':pixels_BW, 'entiers_0_9':entiers_0_9, 'atoms':atoms_BW})"
   ]
  },
  {
   "cell_type": "code",
   "execution_count": 9,
   "id": "8574a8ea",
   "metadata": {},
   "outputs": [
    {
     "data": {
      "image/png": "[encoded data removed]",
      "text/plain": [
       "<PIL.Image.Image image mode=L size=300x300>"
      ]
     },
     "execution_count": 9,
     "metadata": {},
     "output_type": "execute_result"
    }
   ],
   "source": [
    "#%% Exemple de visualisation d'une image :\n",
    "#pour l'image 40002\n",
    "int_im = df_im_BW.iloc[40002].entiers_0_9\n",
    "l_pixels = df_im_BW.iloc[40002].pixels\n",
    "\n",
    "#dimensions de l'image\n",
    "width = 40\n",
    "height = 40\n",
    "\n",
    "#display de l'image 40002\n",
    "img_BW = Image.new('L', (width, height))\n",
    "img_BW.putdata(l_pixels)\n",
    "#img.save(f'image_{int_im}.png')\n",
    "img_BW.resize((300,300), resample=0)"
   ]
  },
  {
   "cell_type": "markdown",
   "id": "21107aff",
   "metadata": {},
   "source": [
    "Le problème de la méthode Puccetti, c'est qu'il faut qu'exactement k des atomes soient associés à un pixel blanc donc il faut choisir le bon k"
   ]
  },
  {
   "cell_type": "code",
   "execution_count": 10,
   "id": "ba1e212a",
   "metadata": {},
   "outputs": [
    {
     "data": {
      "text/plain": [
       "count    60000.000000\n",
       "mean       102.290850\n",
       "std         38.771777\n",
       "min         11.000000\n",
       "25%         74.000000\n",
       "50%         98.000000\n",
       "75%        125.000000\n",
       "max        362.000000\n",
       "Name: nb_pix, dtype: float64"
      ]
     },
     "execution_count": 10,
     "metadata": {},
     "output_type": "execute_result"
    }
   ],
   "source": [
    "df_im_BW['nb_pix'] = df_im_BW.pixels.apply(lambda x: sum(x)/255)\n",
    "df_im_BW.nb_pix.describe() "
   ]
  },
  {
   "cell_type": "markdown",
   "id": "447824c4",
   "metadata": {},
   "source": [
    "On trouve un min = 11, une mopyenne à 102 et que 75% des dessins ont au moins 74 points blancs.\n",
    "On va prendre k = 70 et si des dessins ont moins de 70 pixels blanc (en terme de nuance) on élimine l'image\n",
    "k = 100"
   ]
  },
  {
   "cell_type": "markdown",
   "id": "071ddfd2",
   "metadata": {},
   "source": [
    "# k = 60"
   ]
  },
  {
   "cell_type": "code",
   "execution_count": 11,
   "id": "3347ea6a",
   "metadata": {},
   "outputs": [],
   "source": [
    "k = 120"
   ]
  },
  {
   "cell_type": "code",
   "execution_count": 12,
   "id": "36ced705",
   "metadata": {},
   "outputs": [],
   "source": [
    "#cette fonction permet de ne selectionner que k pixels blanc (k plus blancs, le plus blanc étant à L=255) et laisser tous les autres pixels en noir\n",
    "def white_or_black_fixed_nb(liste, k):\n",
    "    k_index_255 = [np.argsort(liste)[-i] for i in range(1, k+1)]\n",
    "    x = np.zeros(len(liste))\n",
    "    for i in range(k):\n",
    "        x[k_index_255[i]] = 255\n",
    "    return(x)\n"
   ]
  },
  {
   "cell_type": "code",
   "execution_count": 13,
   "id": "66a366b3",
   "metadata": {},
   "outputs": [
    {
     "name": "stdout",
     "output_type": "stream",
     "text": [
      "100.88133931159973  secondes pour executer l'importation et le prétraitement des matrices\n"
     ]
    }
   ],
   "source": [
    "start = time.time()\n",
    "pixels = [white_or_black_fixed_nb(liste, k) for liste in pixels_nuance]\n",
    "#atoms = [p/sum(p) for p in pixels] #valeurs normalisées pour obtenir une mesure de proba uniforme\n",
    "\n",
    "end = time.time()\n",
    "print(end - start, \" secondes pour executer l'importation et le prétraitement des matrices\")"
   ]
  },
  {
   "cell_type": "code",
   "execution_count": 14,
   "id": "3d666f26",
   "metadata": {},
   "outputs": [],
   "source": [
    "df_im_k_BW = pd.DataFrame({'pixels':pixels, 'entiers_0_9':entiers_0_9}) #, 'atoms':atoms})"
   ]
  },
  {
   "cell_type": "code",
   "execution_count": 15,
   "id": "9e4725aa",
   "metadata": {},
   "outputs": [
    {
     "data": {
      "text/plain": [
       "120.0"
      ]
     },
     "execution_count": 15,
     "metadata": {},
     "output_type": "execute_result"
    }
   ],
   "source": [
    "df_im_k_BW.iloc[0].pixels.sum()/255"
   ]
  },
  {
   "cell_type": "code",
   "execution_count": 16,
   "id": "bd2bf96e",
   "metadata": {},
   "outputs": [
    {
     "data": {
      "image/png": "[encoded data removed]",
      "text/plain": [
       "<PIL.Image.Image image mode=L size=300x300>"
      ]
     },
     "execution_count": 16,
     "metadata": {},
     "output_type": "execute_result"
    }
   ],
   "source": [
    "#%% Exemple de visualisation d'une image :\n",
    "#pour l'image 40002\n",
    "int_im = df_im_k_BW.iloc[40002].entiers_0_9\n",
    "l_pixels = df_im_k_BW.iloc[40002].pixels\n",
    "\n",
    "#dimensions de l'image\n",
    "width = 40\n",
    "height = 40\n",
    "\n",
    "#display de l'image 40002\n",
    "img_k_BW = Image.new('L', (width, height))\n",
    "img_k_BW.putdata(l_pixels)\n",
    "#img.save(f'image_{int_im}.png')\n",
    "img_k_BW.resize((300,300), resample=0)"
   ]
  },
  {
   "cell_type": "markdown",
   "id": "fd9a0762",
   "metadata": {},
   "source": [
    "Visualisation de n mesures de probabilité.\n",
    "I.e superposition de n dessins:"
   ]
  },
  {
   "cell_type": "markdown",
   "id": "9fda9799",
   "metadata": {},
   "source": [
    "#### 1) En considérant des proba générales, i.e avec des nuances de gris"
   ]
  },
  {
   "cell_type": "code",
   "execution_count": 17,
   "id": "460fda98",
   "metadata": {},
   "outputs": [
    {
     "data": {
      "image/png": "[encoded data removed]",
      "text/plain": [
       "<PIL.Image.Image image mode=L size=300x300>"
      ]
     },
     "execution_count": 17,
     "metadata": {},
     "output_type": "execute_result"
    }
   ],
   "source": [
    "#selection du chiffre à superposer\n",
    "\n",
    "def image_superimposed(number, nb_of_images, df_im):\n",
    "    df_im_c = df_im.loc[df_im.entiers_0_9 == number].head(nb_of_images)\n",
    "\n",
    "    #display de l'image \n",
    "    l_pixels = [0] * N_samples\n",
    "    img_superimposed = Image.new('L', (width, height))\n",
    "    for l_c in df_im_c.pixels:\n",
    "        l_pixels = [x + y for x, y in zip(l_pixels, l_c)]\n",
    "    img_superimposed.putdata(l_pixels)\n",
    "    return(img_superimposed)\n",
    "\n",
    "c = 6\n",
    "n = 3\n",
    "#img_superimposed.save(f'{n}_N&B_images_superimposed_of_{c}.png')\n",
    "image_superimposed(c, n, df_im_nuance).resize((300,300), resample=0)"
   ]
  },
  {
   "cell_type": "markdown",
   "id": "4be8cd33",
   "metadata": {},
   "source": [
    "#### 2) Mais puisque nous ne considerons pas les nuances de gris car les probabilités sont uniformes:"
   ]
  },
  {
   "cell_type": "code",
   "execution_count": 18,
   "id": "e7d667af",
   "metadata": {},
   "outputs": [
    {
     "data": {
      "image/png": "[encoded data removed]",
      "text/plain": [
       "<PIL.Image.Image image mode=L size=300x300>"
      ]
     },
     "execution_count": 18,
     "metadata": {},
     "output_type": "execute_result"
    }
   ],
   "source": [
    "#avec L > 128\n",
    "c = 6\n",
    "n = 3\n",
    "image_superimposed(c, n, df_im_BW).resize((300,300), resample=0)"
   ]
  },
  {
   "cell_type": "markdown",
   "id": "2810fe17",
   "metadata": {},
   "source": [
    "Avec une selection avec seuil (si L>128 le pixel est blanc)"
   ]
  },
  {
   "cell_type": "code",
   "execution_count": 19,
   "id": "76506ced",
   "metadata": {},
   "outputs": [
    {
     "data": {
      "image/png": "[encoded data removed]",
      "text/plain": [
       "<PIL.Image.Image image mode=L size=300x300>"
      ]
     },
     "execution_count": 19,
     "metadata": {},
     "output_type": "execute_result"
    }
   ],
   "source": [
    "#avec k pixels blancs\n",
    "c = 6\n",
    "n = 3\n",
    "image_superimposed(6, n, df_im_k_BW).resize((300,300), resample=0)"
   ]
  },
  {
   "cell_type": "markdown",
   "id": "e6534aa9",
   "metadata": {},
   "source": [
    "En ne selectionnant que les k pixels les plus blancs pour les mettre à blanc 255, les autre en noir 0."
   ]
  },
  {
   "cell_type": "markdown",
   "id": "7410134c",
   "metadata": {},
   "source": [
    "On remarque que cette hypothèse est déjà une approximation.\n",
    "Il est possible de rendre compte des nuances de gris en affectant des probabilités uniformes à des éléments répetés mais cela signifierai que pour chaque mesure de probabilités il faudrait nb_nuance*pixels = 255*16000 données, ce qui rend l'étude plus coûteuse numériquement."
   ]
  },
  {
   "cell_type": "markdown",
   "id": "b20a82df",
   "metadata": {},
   "source": [
    "# Essayons de trouver le barycentre dans le cas du chiffre c."
   ]
  },
  {
   "cell_type": "markdown",
   "id": "54305e7c",
   "metadata": {},
   "source": [
    "## Prenons n = 4 mesures de probabilités"
   ]
  },
  {
   "cell_type": "markdown",
   "id": "6218c73e",
   "metadata": {},
   "source": [
    "### Rappel : La dimension des atomes est d =40*40 = 1600"
   ]
  },
  {
   "cell_type": "code",
   "execution_count": 20,
   "id": "1b7ffec5",
   "metadata": {},
   "outputs": [
    {
     "data": {
      "text/plain": [
       "(5918, 2)"
      ]
     },
     "execution_count": 20,
     "metadata": {},
     "output_type": "execute_result"
    }
   ],
   "source": [
    "entier = 6\n",
    "df_work = df_im_k_BW.loc[df_im_k_BW.entiers_0_9==entier]\n",
    "df_work.shape"
   ]
  },
  {
   "cell_type": "code",
   "execution_count": 21,
   "id": "e0210d6e",
   "metadata": {},
   "outputs": [
    {
     "data": {
      "text/plain": [
       "5"
      ]
     },
     "execution_count": 21,
     "metadata": {},
     "output_type": "execute_result"
    }
   ],
   "source": [
    "n = 5\n",
    "k= 100\n",
    "df_work = df_work.iloc[:n] \n",
    "d = len(df_work.iloc[0].pixels)\n",
    "n"
   ]
  },
  {
   "cell_type": "code",
   "execution_count": 22,
   "id": "a6dab5c5",
   "metadata": {},
   "outputs": [
    {
     "data": {
      "image/png": "[encoded data removed]",
      "text/plain": [
       "<PIL.Image.Image image mode=L size=300x300>"
      ]
     },
     "execution_count": 22,
     "metadata": {},
     "output_type": "execute_result"
    }
   ],
   "source": [
    "image_superimposed(entier, n, df_im_k_BW).resize((300,300), resample=0)"
   ]
  },
  {
   "cell_type": "code",
   "execution_count": 23,
   "id": "81ef93d5",
   "metadata": {},
   "outputs": [
    {
     "data": {
      "text/plain": [
       "Index(['pixels', 'entiers_0_9'], dtype='object')"
      ]
     },
     "execution_count": 23,
     "metadata": {},
     "output_type": "execute_result"
    }
   ],
   "source": [
    "df_im_k_BW.columns"
   ]
  },
  {
   "cell_type": "markdown",
   "id": "d3e841fb",
   "metadata": {},
   "source": [
    "Dans un premier temps il faut diviser notre images en k atoms, c'est à dire img = (0,1,0,1,1) donne atoms = [(0,1,0,0,0), (0,0,0,1,0,0), (0,0,0,0,1)]\n",
    "Cela revient à décomposer ce vecteur sur la base canonique R^k"
   ]
  },
  {
   "cell_type": "code",
   "execution_count": 24,
   "id": "13b9633d",
   "metadata": {},
   "outputs": [
    {
     "data": {
      "text/plain": [
       "Index(['pixels', 'entiers_0_9'], dtype='object')"
      ]
     },
     "execution_count": 24,
     "metadata": {},
     "output_type": "execute_result"
    }
   ],
   "source": [
    "df_work.columns"
   ]
  },
  {
   "cell_type": "code",
   "execution_count": 25,
   "id": "c42979ee",
   "metadata": {},
   "outputs": [],
   "source": [
    "x_base1600 = []\n",
    "for i in range(n):\n",
    "    x_base1600.append([])\n",
    "    l_pixels = df_work.pixels.iloc[i]\n",
    "    index_255 = [i for i in range(len(l_pixels)) if l_pixels[i]==255]\n",
    "    for j in range(k):\n",
    "        x_ij = np.zeros(d)\n",
    "        x_ij[index_255[j]] = 1\n",
    "        x_base1600[i].append(x_ij)"
   ]
  },
  {
   "cell_type": "markdown",
   "id": "c7dc8d6d",
   "metadata": {},
   "source": [
    "La liste de listes x contient tous les atomes de toutes les mesures de probabilité. \n",
    "\n",
    "x[i][j] correspond à l'atome j de la mesure de probabilité i."
   ]
  },
  {
   "cell_type": "markdown",
   "id": "4453fb64",
   "metadata": {},
   "source": [
    "Je pense qu'il faut remplacer chaque atomes (dx1) (40²x1) par un atome qui ne comporte que la position géométrique de l'atome d'origine (donc en 2x1) car on va voilour trouver un barycentre géométrique des groupes d'atomes formés, dans un second temps.\n",
    "La transformation est la suivant:"
   ]
  },
  {
   "cell_type": "code",
   "execution_count": 26,
   "id": "d99b2207",
   "metadata": {},
   "outputs": [],
   "source": [
    "def to_base_can(x_ij, nb_pixel_side):\n",
    "    location_1 = np.argsort(x_ij)[-1]\n",
    "    new_x = location_1 // nb_pixel_side\n",
    "    new_y = location_1 - new_x * nb_pixel_side\n",
    "    x_ij = np.array([new_x, new_y])\n",
    "    return(x_ij)\n",
    "\n",
    "#boucle sur tous les atomes de toutes les lois pour avoir tous les atomes en base canonique ((0,1), (1,0))\n",
    "x = []\n",
    "for i in range(n):\n",
    "    x.append([])\n",
    "    for j in range(k):\n",
    "        x[i].append(to_base_can(x_base1600[i][j], nb_pixel_side))"
   ]
  },
  {
   "cell_type": "markdown",
   "id": "e6cfd95d",
   "metadata": {},
   "source": [
    "L'article de Puccetti utilise un algorithme itératif qui consiste à comparer le côté droit d'une inequation avec le côté gauche et dans le cas où left_side < right_side, les éléments x[i][k1] et x[i][k2] sont échangés."
   ]
  },
  {
   "cell_type": "code",
   "execution_count": 27,
   "id": "6a474ff5",
   "metadata": {},
   "outputs": [
    {
     "name": "stdout",
     "output_type": "stream",
     "text": [
      "0.5910279750823975  secondes pour executer l'algorithme de comparaison de Puccetti pour 5 mesures de probabilités empiriques et 100 atomes par mesure\n"
     ]
    }
   ],
   "source": [
    "#comparaison de Puccetti :\n",
    "start_pucc = time.time()\n",
    "for i in range(n):\n",
    "    #print(i, 'temps en secondes: ' time.time() - start_pucc) #temps\n",
    "    for k1 in range(k-1):\n",
    "        for k2 in range(k1+1,k):\n",
    "            left_side = np.dot(x[i][k1], sum([x[j][k1] for j in range(n) if j!=i])) + np.dot(x[i][k2], sum([x[j][k2] for j in range(n) if j!=i]))\n",
    "            right_side = np.dot(x[i][k1], sum([x[j][k1] for j in range(n) if j!=i])) + np.dot(x[i][k2], sum([x[j][k2] for j in range(n) if j!=i]))\n",
    "            if left_side < right_side:\n",
    "                copy_xik1 = x[i][k1].copy()\n",
    "                x[i][k1] = x[i][k2]\n",
    "                x[i][k2] = copy_xik1\n",
    "end_pucc = time.time()\n",
    "print(end_pucc - start_pucc, f\" secondes pour executer l'algorithme de comparaison de Puccetti pour {n} mesures de probabilités empiriques et {k} atomes par mesure\")     "
   ]
  },
  {
   "cell_type": "markdown",
   "id": "93711426",
   "metadata": {},
   "source": [
    "A partir de ce moment là, tous les atomes des mesures de probabilités sont triés atoms_mui = [xi1, xi2, xi3,...,xik] --> atoms_mui = [xi3, xi5, xi1,...,xi2] par exemple"
   ]
  },
  {
   "cell_type": "markdown",
   "id": "c33391c2",
   "metadata": {},
   "source": [
    "### Remarque: on voit bien dans la construction de l'algorithme que sa complexité est en O(nk²)"
   ]
  },
  {
   "cell_type": "markdown",
   "id": "e1bc1c1b",
   "metadata": {},
   "source": [
    "Il reste maintenant à trouver les k atomes de la loi barycentriques des mesures de probabilités.\n",
    "\n",
    "Ces atomes sont en fait le barycentre des regroupement formés grâce à l'algorithme présedent, de sorte que: \n",
    "\n",
    "x_mu_barycentrique_j = barycentre(x[i,j] for j in [1,n]), j dans [1,k]. Ce barycentre peut se calculer comme une moyenne empirique. "
   ]
  },
  {
   "cell_type": "code",
   "execution_count": 28,
   "id": "2c7a78ca",
   "metadata": {},
   "outputs": [],
   "source": [
    "x_barycenter = []\n",
    "for j in range(k):\n",
    "    x_barycenter.append(sum([x[i][j] for i in range(n)])/n)"
   ]
  },
  {
   "cell_type": "markdown",
   "id": "2453838a",
   "metadata": {},
   "source": [
    "Grâce à l'inverse de to_base_can() on reconstruit l'image"
   ]
  },
  {
   "cell_type": "code",
   "execution_count": 29,
   "id": "3fd201d6",
   "metadata": {},
   "outputs": [],
   "source": [
    "def inv_to_base_can(x_ij, nb_pixel_side):\n",
    "    x = np.zeros(nb_pixel_side*nb_pixel_side)\n",
    "    location_1 = int(x_ij[0]) * nb_pixel_side + int(x_ij[1]) #j'arrondis à la partie entière\n",
    "    #and NOT \" loc_pix = int(np.round(x_ij[0]) * nb_pixel_side + np.round(x_ij[1])) \" that is less precise\n",
    "    x[location_1] = 1\n",
    "    return(x)\n",
    "\n",
    "x_barycenter_base1600 = [inv_to_base_can(x, nb_pixel_side) for x in x_barycenter]"
   ]
  },
  {
   "cell_type": "code",
   "execution_count": 30,
   "id": "917f1450",
   "metadata": {},
   "outputs": [
    {
     "data": {
      "image/png": "[encoded data removed]",
      "text/plain": [
       "<PIL.Image.Image image mode=L size=300x300>"
      ]
     },
     "execution_count": 30,
     "metadata": {},
     "output_type": "execute_result"
    }
   ],
   "source": [
    "#%% Visualisation du résultat:\n",
    "pixel_resultat = sum(x_barycenter_base1600)*255\n",
    "\n",
    "#dimensions de l'image\n",
    "width = 40\n",
    "height = 40\n",
    "#display de l'image 40002\n",
    "img_res = Image.new('L', (width, height))\n",
    "img_res.putdata(pixel_resultat)\n",
    "img_res.save(f'image_result_nck_{n}_{entier}_{k}.png')\n",
    "img_res.resize((300,300), resample=0)"
   ]
  },
  {
   "cell_type": "markdown",
   "id": "d10a66a3",
   "metadata": {},
   "source": [
    "# Essaie avec des images plus simples"
   ]
  },
  {
   "cell_type": "code",
   "execution_count": 31,
   "id": "bb976093",
   "metadata": {},
   "outputs": [
    {
     "data": {
      "image/png": "[encoded data removed]",
      "text/plain": [
       "<PIL.Image.Image image mode=L size=500x500>"
      ]
     },
     "execution_count": 31,
     "metadata": {},
     "output_type": "execute_result"
    }
   ],
   "source": [
    "#création de 4 images\n",
    "x1 = np.zeros(nb_pixel_side**2)\n",
    "x2, x3, x4, x5 = x1.copy(), x1.copy(), x1.copy(), x1.copy()\n",
    "\n",
    "x1[0] = 255\n",
    "x2[nb_pixel_side-1] = 255\n",
    "x3[nb_pixel_side*(nb_pixel_side-1)] = 255\n",
    "x4[nb_pixel_side*nb_pixel_side-1] = 255\n",
    "x5[nb_pixel_side*nb_pixel_side//2 + 10] = 255\n",
    "\n",
    "x_base1600_simple = [x1, x2, x3, x4] #, x5]\n",
    "\n",
    "#display de l'image \n",
    "x_pix = sum(x_base1600_simple)\n",
    "img_superimposed = Image.new('L', (width, height))\n",
    "img_superimposed.putdata(x_pix)\n",
    "img_superimposed.resize((500,500), resample=0)"
   ]
  },
  {
   "cell_type": "code",
   "execution_count": 32,
   "id": "d6865b75",
   "metadata": {},
   "outputs": [
    {
     "name": "stdout",
     "output_type": "stream",
     "text": [
      "0.0  secondes pour executer l'algorithme de comparaison de Puccetti pour 2 mesures de probabilités empiriques et 2 atomes par mesure\n",
      "image_result_nck_2_6_2 :\n"
     ]
    },
    {
     "data": {
      "image/png": "[encoded data removed]",
      "text/plain": [
       "<PIL.Image.Image image mode=L size=300x300>"
      ]
     },
     "execution_count": 32,
     "metadata": {},
     "output_type": "execute_result"
    }
   ],
   "source": [
    "#x_base1600 = [[x] for x in x_base1600_simple]\n",
    "#En groupant des images entre elles:\n",
    "x_base1600 =  [[x1, x2], [x3, x4]] \n",
    "k = len(x_base1600[0])\n",
    "n = len(x_base1600)\n",
    "\n",
    "\n",
    "def to_base_can(x_ij, nb_pixel_side):\n",
    "    location_1 = np.argsort(x_ij)[-1]\n",
    "    new_x = location_1 // nb_pixel_side\n",
    "    new_y = location_1 - new_x * nb_pixel_side\n",
    "    x_ij = np.array([new_x, new_y])\n",
    "    return(x_ij)\n",
    "\n",
    "#boucle sur tous les atomes de toutes les lois pour avoir tous les atomes en base canonique ((0,1), (1,0))\n",
    "x = []\n",
    "for i in range(n):\n",
    "    x.append([])\n",
    "    for j in range(k):\n",
    "        x[i].append(to_base_can(x_base1600[i][j], nb_pixel_side))\n",
    "        \n",
    "#comparaison de Puccetti :\n",
    "start_pucc = time.time()\n",
    "for i in range(n):\n",
    "    #print(i, 'temps en secondes: ' time.time() - start_pucc) #temps\n",
    "    for k1 in range(k-1):\n",
    "        for k2 in range(k1+1,k):\n",
    "            left_side = np.dot(x[i][k1], sum([x[j][k1] for j in range(n) if j!=i])) + np.dot(x[i][k2], sum([x[j][k2] for j in range(n) if j!=i]))\n",
    "            right_side = np.dot(x[i][k1], sum([x[j][k1] for j in range(n) if j!=i])) + np.dot(x[i][k2], sum([x[j][k2] for j in range(n) if j!=i]))\n",
    "            if left_side < right_side:\n",
    "                copy_xik1 = x[i][k1].copy()\n",
    "                x[i][k1] = x[i][k2]\n",
    "                x[i][k2] = copy_xik1\n",
    "end_pucc = time.time()\n",
    "print(end_pucc - start_pucc, f\" secondes pour executer l'algorithme de comparaison de Puccetti pour {n} mesures de probabilités empiriques et {k} atomes par mesure\") \n",
    "\n",
    "x_barycenter = []\n",
    "for j in range(k):\n",
    "    x_barycenter.append(sum([x[i][j] for i in range(n)])/n)\n",
    "    \n",
    "def inv_to_base_can(x_ij, nb_pixel_side):\n",
    "    x = np.zeros(nb_pixel_side*nb_pixel_side)\n",
    "    location_1 = int(x_ij[0]) * nb_pixel_side + int(x_ij[1]) #j'arrondis à la partie entière\n",
    "    x[location_1] = 1\n",
    "    return(x)\n",
    "\n",
    "x_barycenter_base1600 = [inv_to_base_can(x, nb_pixel_side) for x in x_barycenter]\n",
    "\n",
    "\n",
    "#%% Visualisation du résultat:\n",
    "pixel_resultat = sum(x_barycenter_base1600)*255\n",
    "\n",
    "#dimensions de l'image\n",
    "width = 40\n",
    "height = 40\n",
    "#display de l'image 40002\n",
    "img_res = Image.new('L', (width, height))\n",
    "img_res.putdata(pixel_resultat)\n",
    "#img_res.save(f'image_result_nck_{n}_{c}_{k}.png')\n",
    "print(f'image_result_nck_{n}_{c}_{k} :')\n",
    "img_res.resize((300,300), resample=0)"
   ]
  }
 ],
 "metadata": {
  "kernelspec": {
   "display_name": "Python 3 (ipykernel)",
   "language": "python",
   "name": "python3"
  },
  "language_info": {
   "codemirror_mode": {
    "name": "ipython",
    "version": 3
   },
   "file_extension": ".py",
   "mimetype": "text/x-python",
   "name": "python",
   "nbconvert_exporter": "python",
   "pygments_lexer": "ipython3",
   "version": "3.9.13"
  }
 },
 "nbformat": 4,
 "nbformat_minor": 5
}
